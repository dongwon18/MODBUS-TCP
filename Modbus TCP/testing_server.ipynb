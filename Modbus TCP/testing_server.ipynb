{
 "cells": [
  {
   "cell_type": "code",
   "execution_count": 15,
   "metadata": {},
   "outputs": [
    {
     "data": {
      "text/plain": [
       "'\\n-- Copyright 2021. Dongwon Kim All rights reserved.\\n--\\n-- File name : testing_server.ipynb\\n-- \\n-- Written by Dongwon Kim\\n--\\n-- Modbus TCP communication\\n--    open local testing server\\n--\\n-- Modificatoin history\\n--    written by Dongwon Kim on June 18, 2021\\n'"
      ]
     },
     "execution_count": 15,
     "metadata": {},
     "output_type": "execute_result"
    }
   ],
   "source": [
    "\"\"\"\r\n",
    "-- Copyright 2021. Dongwon Kim All rights reserved.\r\n",
    "--\r\n",
    "-- File name : testing_server.ipynb\r\n",
    "-- \r\n",
    "-- Written by Dongwon Kim\r\n",
    "--\r\n",
    "-- Modbus TCP communication\r\n",
    "--    open local testing server\r\n",
    "--\r\n",
    "-- Modificatoin history\r\n",
    "--    written by Dongwon Kim on June 18, 2021\r\n",
    "\"\"\""
   ]
  },
  {
   "cell_type": "code",
   "execution_count": 22,
   "metadata": {},
   "outputs": [],
   "source": [
    "import socket\r\n",
    "from pyModbusTCP.server import ModbusServer"
   ]
  },
  {
   "cell_type": "code",
   "execution_count": 23,
   "metadata": {},
   "outputs": [
    {
     "name": "stdout",
     "output_type": "stream",
     "text": [
      "[+]Info : IP Address for Modbus Server : 192.168.56.1\n"
     ]
    }
   ],
   "source": [
    "\"\"\"\r\n",
    "-- Open local server\r\n",
    "-- port no. is fixed to 502 according to MODBUS protocol\r\n",
    "\"\"\"\r\n",
    "# get local IP address\r\n",
    "hostname = socket.gethostname()\r\n",
    "server_ip_addr = socket.gethostbyname(hostname)\r\n",
    "server_port = 502\r\n",
    "print(f\"[+]Info : IP Address for Modbus Server : {server_ip_addr}\")"
   ]
  },
  {
   "cell_type": "code",
   "execution_count": 24,
   "metadata": {},
   "outputs": [],
   "source": [
    "# open server\r\n",
    "server = ModbusServer(server_ip_addr, server_port, no_block = True)"
   ]
  },
  {
   "cell_type": "code",
   "execution_count": 25,
   "metadata": {},
   "outputs": [
    {
     "name": "stdout",
     "output_type": "stream",
     "text": [
      "[+]info : Server is Online on IP : 192.168.56.1 and Port : 502\n"
     ]
    }
   ],
   "source": [
    "server.start()\r\n",
    "print(f\"[+]info : Server is Online on IP : {server_ip_addr} and Port : {server_port}\" )"
   ]
  },
  {
   "cell_type": "code",
   "execution_count": 26,
   "metadata": {},
   "outputs": [
    {
     "data": {
      "text/plain": [
       "True"
      ]
     },
     "execution_count": 26,
     "metadata": {},
     "output_type": "execute_result"
    }
   ],
   "source": [
    "# check running\r\n",
    "server.is_run "
   ]
  },
  {
   "cell_type": "code",
   "execution_count": 27,
   "metadata": {},
   "outputs": [
    {
     "name": "stdout",
     "output_type": "stream",
     "text": [
      "[+]info: Stop the server\n"
     ]
    }
   ],
   "source": [
    "# Stop server\r\n",
    "print(\"[+]info: Stop the server\")\r\n",
    "server.stop()"
   ]
  }
 ],
 "metadata": {
  "interpreter": {
   "hash": "6d46af94c2bbce495f1e668725902fa517c90b1782bcfe2fce0dd9868df553d3"
  },
  "kernelspec": {
   "display_name": "Python 3.8.8 64-bit ('base': conda)",
   "name": "python3"
  },
  "language_info": {
   "codemirror_mode": {
    "name": "ipython",
    "version": 3
   },
   "file_extension": ".py",
   "mimetype": "text/x-python",
   "name": "python",
   "nbconvert_exporter": "python",
   "pygments_lexer": "ipython3",
   "version": "3.8.8"
  },
  "orig_nbformat": 4
 },
 "nbformat": 4,
 "nbformat_minor": 2
}