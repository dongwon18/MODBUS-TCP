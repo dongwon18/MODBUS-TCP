{
 "cells": [
  {
   "cell_type": "code",
   "execution_count": 1,
   "metadata": {},
   "outputs": [
    {
     "name": "stdout",
     "output_type": "stream",
     "text": [
      "[+]Info : ConnectionTrue\n"
     ]
    }
   ],
   "source": [
    "\"\"\"\r\n",
    "-- Copyright 2021. Dongwon Kim All rights reserved.\r\n",
    "--\r\n",
    "-- File name : main.ipynb\r\n",
    "-- \r\n",
    "-- Written by Dongwon Kim\r\n",
    "--\r\n",
    "-- Modbus TCP communication(main file)\r\n",
    "--    using Communication_func, connect to server and read registers\r\n",
    "--    using decoding, interpret the values and print the message \r\n",
    "--    detector = 0(Gastron GTD-5000), 1(Honeywell Midas)\r\n",
    "--\r\n",
    "-- Modificatoin history\r\n",
    "--    written by Dongwon Kim on June 18, 2021\r\n",
    "--\r\n",
    "-- Encoding: UTF-8\r\n",
    "--\r\n",
    "-- Prerequisite\r\n",
    "--    decoding.py, Communication_func.py should be in the same directory\r\n",
    "\"\"\"\r\n",
    "from decoding import *\r\n",
    "from Communication_func import *\r\n",
    "\r\n",
    "# Honeywell gas detector\r\n",
    "detector = 1\r\n",
    "server_ip, server_port = get_addr()\r\n",
    "status, gas_info, gas_value, error_code, units, alarm1_limit, alarm2_limit = get_value_from_server(server_ip, server_port)\r\n",
    "\r\n",
    "# decode the value and get message\r\n",
    "status = decode_status(status, detector)\r\n",
    "gas_id, cat_id = decode_gas_info(gas_info, detector)\r\n",
    "dp1 = decode_decimal_point(units, detector)\r\n",
    "gas_value = decode_gas_value(gas_value, detector, dp1)\r\n",
    "error_code = decode_error_code(error_code, detector)\r\n",
    "units = decode_units(units, detector)\r\n",
    "alarm1_limit = decode_alarm_limit(alarm1_limit, detector, dp1)\r\n",
    "alarm2_limit = decode_alarm_limit(alarm2_limit, detector, dp1)"
   ]
  },
  {
   "cell_type": "code",
   "execution_count": 2,
   "metadata": {},
   "outputs": [
    {
     "name": "stdout",
     "output_type": "stream",
     "text": [
      "status : \tNo fault\n",
      "gas_info : \t0000000100011001\n",
      "gas_value : \t106500.\n",
      "error_code : \t[Error] No such data for the detector1\n",
      "units : \t[Error] No such unit code 00100000\n",
      "alarm1_limit : \t106504.\n",
      "alarm2_limit : \t131072.\n"
     ]
    }
   ],
   "source": [
    "print(\"status : \\t\" +  status)\r\n",
    "print(\"gas_info : \\t\" + gas_info)\r\n",
    "print(\"gas_value : \\t\" + gas_value)\r\n",
    "print(\"error_code : \\t\" + error_code)\r\n",
    "print(\"units : \\t\" + units)\r\n",
    "print(\"alarm1_limit : \\t\" + alarm1_limit)\r\n",
    "print(\"alarm2_limit : \\t\" + alarm2_limit)"
   ]
  }
 ],
 "metadata": {
  "interpreter": {
   "hash": "6d46af94c2bbce495f1e668725902fa517c90b1782bcfe2fce0dd9868df553d3"
  },
  "kernelspec": {
   "display_name": "Python 3.8.8 64-bit ('base': conda)",
   "name": "python3"
  },
  "language_info": {
   "codemirror_mode": {
    "name": "ipython",
    "version": 3
   },
   "file_extension": ".py",
   "mimetype": "text/x-python",
   "name": "python",
   "nbconvert_exporter": "python",
   "pygments_lexer": "ipython3",
   "version": "3.8.8"
  },
  "orig_nbformat": 4
 },
 "nbformat": 4,
 "nbformat_minor": 2
}