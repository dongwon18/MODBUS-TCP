{
 "cells": [
  {
   "cell_type": "code",
   "execution_count": 1,
   "metadata": {},
   "outputs": [],
   "source": [
    "from pymodbus.client.sync import ModbusTcpClient\r\n",
    "from pymodbus.constants import Endian\r\n",
    "from pymodbus.payload import BinaryPayloadBuilder\r\n",
    "import socket\r\n",
    "import time"
   ]
  },
  {
   "cell_type": "code",
   "execution_count": 2,
   "metadata": {},
   "outputs": [],
   "source": [
    "# get local IP address\r\n",
    "hostname = socket.gethostname()\r\n",
    "server_ip_addr = socket.gethostbyname(hostname)\r\n",
    "server_port = 502"
   ]
  },
  {
   "cell_type": "code",
   "execution_count": 3,
   "metadata": {},
   "outputs": [],
   "source": [
    "# connect to server\r\n",
    "client = ModbusTcpClient(server_ip_addr, server_port)"
   ]
  },
  {
   "cell_type": "code",
   "execution_count": 4,
   "metadata": {},
   "outputs": [
    {
     "name": "stdout",
     "output_type": "stream",
     "text": [
      "[+]Info : ConnectionTrue\n"
     ]
    }
   ],
   "source": [
    "print(\"[+]Info : Connection\" + str(client.connect()))\r\n"
   ]
  },
  {
   "cell_type": "code",
   "execution_count": 5,
   "metadata": {},
   "outputs": [
    {
     "data": {
      "text/plain": [
       "<pymodbus.register_write_message.WriteMultipleRegistersResponse at 0x282647de4f0>"
      ]
     },
     "execution_count": 5,
     "metadata": {},
     "output_type": "execute_result"
    }
   ],
   "source": [
    "\"\"\"\r\n",
    "Write values to registers in server \r\n",
    "    according to GASTRON GTD-5000 Address Map\r\n",
    "\r\n",
    "40001: flow correction 1, fault active 0 alarm 01\r\n",
    "    1000 0001 0000 0000 = 0x8100 = 33024\r\n",
    "40002: gas ID, catridge ID\r\n",
    "    0000 0001 0001 1001 = 0x0119 = 281\r\n",
    "40003: gas value word 1 of 2\r\n",
    "    0000 0000 0000 0001 = 0x0001 = 1\r\n",
    "40004: gas value word 2 of 2\r\n",
    "    1010 0000 0000 0100 = 0xA004 = 40964\r\n",
    "40006: error code\r\n",
    "    0000 0101 0000 0000 = 0x0500 = 1280\r\n",
    "40007 : units PPB\r\n",
    "    0000 0000 0010 0000 = 0x0020 = 32\r\n",
    "40013 : 1st alarm limit word 1 of 2\r\n",
    "    0000 0000 0000 0001 = 0x0001 = 1\r\n",
    "40014 : 1st alarm limit word 2 of 2\r\n",
    "    1010 0000 0000 1000 = 0xA008 = 40968\r\n",
    "40015 : 2nd alarm limit word 1 of 2\r\n",
    "    0000 0000 0000 0010 = 0x0002 = 2 \r\n",
    "40016 : 2nd alarm limit word 1 of 2\r\n",
    "    0000 0000 0000 0000 = 0x0000 = 0\r\n",
    "\r\n",
    "1st alarm on, 2nd alarm off\r\n",
    "\"\"\"\r\n",
    "# when reading values from registers, values are decimal\r\n",
    "#   no matter how it was written(hex or decimal) \r\n",
    "client.write_registers(0, 0x8100) \r\n",
    "client.write_registers(1, 0x0119)\r\n",
    "client.write_registers(2, 1) \r\n",
    "client.write_registers(3, 40964) \r\n",
    "client.write_registers(5, 1280) \r\n",
    "client.write_registers(6, 32) \r\n",
    "client.write_registers(12, 1) \r\n",
    "client.write_registers(13, 40968) \r\n",
    "client.write_registers(14, 2) \r\n",
    "client.write_registers(15, 0) "
   ]
  },
  {
   "cell_type": "code",
   "execution_count": null,
   "metadata": {},
   "outputs": [],
   "source": []
  }
 ],
 "metadata": {
  "interpreter": {
   "hash": "6d46af94c2bbce495f1e668725902fa517c90b1782bcfe2fce0dd9868df553d3"
  },
  "kernelspec": {
   "display_name": "Python 3.8.8 64-bit ('base': conda)",
   "name": "python3"
  },
  "language_info": {
   "codemirror_mode": {
    "name": "ipython",
    "version": 3
   },
   "file_extension": ".py",
   "mimetype": "text/x-python",
   "name": "python",
   "nbconvert_exporter": "python",
   "pygments_lexer": "ipython3",
   "version": "3.8.8"
  },
  "orig_nbformat": 4
 },
 "nbformat": 4,
 "nbformat_minor": 2
}